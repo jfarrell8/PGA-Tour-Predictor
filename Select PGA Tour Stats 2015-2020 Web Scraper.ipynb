{
 "cells": [
  {
   "cell_type": "code",
   "execution_count": 1,
   "metadata": {},
   "outputs": [],
   "source": [
    "import pandas as pd\n",
    "import numpy as np\n",
    "import os\n",
    "import matplotlib.pyplot as plt\n",
    "%matplotlib inline\n",
    "from bs4 import BeautifulSoup\n",
    "import requests"
   ]
  },
  {
   "cell_type": "code",
   "execution_count": 2,
   "metadata": {},
   "outputs": [],
   "source": [
    "# all of the stats (id mapped to text) to capture from pgatour.com\n",
    "stats = {\n",
    "         'DRIVING DISTANCE': '101',\n",
    "         'DRIVING ACCURACY': '102',\n",
    "         'SG: OFF THE TEE': '02567', \n",
    "         'SG: APP THE GREEN': '02568', \n",
    "         'GIR %': '103', \n",
    "         'PROXIMITY TO HOLE': '331',\n",
    "         'SG: AROUND THE GREEN': '02569',\n",
    "         'SAND SAVE %': '111',\n",
    "         'SCRAMBLING': '130',\n",
    "         'SG: PUTTING': '02564', \n",
    "         '3-PUTT AVOIDANCE': '426',\n",
    "         'BIRDIE OR BETTER CONVERSION %': '115'\n",
    "        }\n",
    "\n",
    "# years of interest (the last 6, including 2020)\n",
    "years = ['2015', '2016', '2017', '2018', '2019', '2020']"
   ]
  },
  {
   "cell_type": "code",
   "execution_count": 3,
   "metadata": {},
   "outputs": [],
   "source": [
    "# local directory\n",
    "data_dir = 'C:/Users/johnd/Desktop/Continuing Education/Udacity/Machine Learning Nanodegree Program/PGA Golf Predictor Idea/HTML Data'"
   ]
  },
  {
   "cell_type": "code",
   "execution_count": 4,
   "metadata": {},
   "outputs": [],
   "source": [
    "# Obtain all of the urls of interest for stats across 2015 - 2020 range\n",
    "for stat in stats.values():\n",
    "    for year in years:\n",
    "        \n",
    "        url = f'https://www.pgatour.com/content/pgatour/stats/stat.%s.y%s.html' % (stat, year)\n",
    "        \n",
    "        # Make a GET request to fetch the raw HTML content\n",
    "        html_content = requests.get(url).text\n",
    "\n",
    "        # Parse the html content\n",
    "        soup = BeautifulSoup(html_content, \"lxml\")\n",
    "        \n",
    "        # Locate table, table headings, and table body\n",
    "        table = soup.find(\"table\", attrs={\"class\": \"table-styled\"})\n",
    "        table_header = table.thead.find_all(\"tr\")  # RANK THIS WEEK, RANK LAST WEEK, PLAYER NAME,...\n",
    "        table_body = table.tbody.find_all(\"tr\")\n",
    "\n",
    "        # Get all the headings of Lists\n",
    "        headings = []\n",
    "        for th in table_header[0].find_all(\"th\"):\n",
    "            # remove any newlines and extra spaces from left and right\n",
    "            headings.append(th.text.replace('\\n', ' ').strip())\n",
    "\n",
    "        # Get data from each row in the table\n",
    "        table_data = []\n",
    "        for tr in table.tbody.find_all('tr'):\n",
    "            t_row=[]\n",
    "            for td in tr.find_all('td'):\n",
    "                t_row.append(td.text.replace('\\n', '').strip())\n",
    "            table_data.append(t_row)\n",
    "        \n",
    "        # put list of data into dataframe\n",
    "        df = pd.DataFrame(table_data, columns=headings)\n",
    "        df['Year'] = year\n",
    "        df['Stat ID'] = stat\n",
    "        df = df.set_index(df.columns[0])\n",
    "        \n",
    "        # save data to local directory (so we don't have to keep scraping)\n",
    "        df.to_csv(os.path.join(data_dir, '%s_%s.csv' % (year, soup.title.text[:-17].replace(':', ''))))"
   ]
  },
  {
   "cell_type": "code",
   "execution_count": null,
   "metadata": {},
   "outputs": [],
   "source": []
  }
 ],
 "metadata": {
  "kernelspec": {
   "display_name": "Python 3",
   "language": "python",
   "name": "python3"
  },
  "language_info": {
   "codemirror_mode": {
    "name": "ipython",
    "version": 3
   },
   "file_extension": ".py",
   "mimetype": "text/x-python",
   "name": "python",
   "nbconvert_exporter": "python",
   "pygments_lexer": "ipython3",
   "version": "3.7.4"
  }
 },
 "nbformat": 4,
 "nbformat_minor": 2
}
